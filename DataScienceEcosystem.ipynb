{
 "cells": [
  {
   "cell_type": "markdown",
   "id": "e3f1337f-eaaa-43a4-8c91-7b6dd3967642",
   "metadata": {},
   "source": [
    "# Data Science Tools and Ecosystem"
   ]
  },
  {
   "cell_type": "markdown",
   "id": "efaff9e8-2dac-444e-ba74-dae48f7058e8",
   "metadata": {},
   "source": [
    "In this notebook, Data Science Tools and Ecosystem are summarized."
   ]
  },
  {
   "cell_type": "markdown",
   "id": "362a26fb-bd67-4867-b1ea-31c96134ce03",
   "metadata": {},
   "source": [
    "**Objectives:**\n",
    "- popular languages in Data Science\n",
    "- commonly used libraries in Data Science\n",
    "- Data Science tools\n",
    "- simple arithmetic expressions"
   ]
  },
  {
   "cell_type": "markdown",
   "id": "506e458a-79e4-4319-a09f-6863e5b2e5e2",
   "metadata": {},
   "source": [
    "Some of the popular languages that Data Scientists use are: \n",
    "1. Python\n",
    "2. R\n",
    "3. Java\n",
    "4. C\n",
    "5. C++"
   ]
  },
  {
   "cell_type": "markdown",
   "id": "fa9db749-6930-4af8-8bdd-34975c15cca0",
   "metadata": {},
   "source": [
    "Some of the commonly used libraries used by Data Scientists include:\n",
    "1. numpy\n",
    "2. pandas\n",
    "3. matplotlib"
   ]
  },
  {
   "cell_type": "markdown",
   "id": "c2e9c656-e161-47c4-8172-0e6e8ea037b8",
   "metadata": {},
   "source": [
    "|Data Science Tools|\n",
    "|------------------|\n",
    "|Jupyter Notebook|\n",
    "|RStudio|\n",
    "|Apache Spark|"
   ]
  },
  {
   "cell_type": "markdown",
   "id": "1fafc2ae-c830-4fca-956a-06fecc222560",
   "metadata": {},
   "source": [
    "### Below there are a few examples of evaluating arithmetic expressions in Python:"
   ]
  },
  {
   "cell_type": "code",
   "execution_count": 7,
   "id": "c145c977-8623-4d2c-8865-7213cd5f5b37",
   "metadata": {},
   "outputs": [
    {
     "data": {
      "text/plain": [
       "17"
      ]
     },
     "execution_count": 7,
     "metadata": {},
     "output_type": "execute_result"
    }
   ],
   "source": [
    "# This is a simple arithmetic expression to multiply then add integers. \n",
    "(3 * 4) + 5"
   ]
  },
  {
   "cell_type": "code",
   "execution_count": 9,
   "id": "4b2e2183-5079-4d53-95fb-e2ef7f145cac",
   "metadata": {},
   "outputs": [
    {
     "data": {
      "text/plain": [
       "3.3333333333333335"
      ]
     },
     "execution_count": 9,
     "metadata": {},
     "output_type": "execute_result"
    }
   ],
   "source": [
    "#This will convert 200 minutes into hours by dividing by 60.\n",
    "200 / 60"
   ]
  },
  {
   "cell_type": "markdown",
   "id": "5f318c81-7f65-48b8-9629-ec46b492d529",
   "metadata": {},
   "source": [
    "## Author\n",
    "Remigiusz Suchacki"
   ]
  },
  {
   "cell_type": "code",
   "execution_count": null,
   "id": "4a4235ee-1e2f-4d11-8ce6-d9312706ab47",
   "metadata": {},
   "outputs": [],
   "source": []
  }
 ],
 "metadata": {
  "kernelspec": {
   "display_name": "Python 3 (ipykernel)",
   "language": "python",
   "name": "python3"
  },
  "language_info": {
   "codemirror_mode": {
    "name": "ipython",
    "version": 3
   },
   "file_extension": ".py",
   "mimetype": "text/x-python",
   "name": "python",
   "nbconvert_exporter": "python",
   "pygments_lexer": "ipython3",
   "version": "3.12.7"
  }
 },
 "nbformat": 4,
 "nbformat_minor": 5
}
